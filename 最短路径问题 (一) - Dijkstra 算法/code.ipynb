{
 "cells": [
  {
   "cell_type": "markdown",
   "metadata": {},
   "source": [
    "### Dijkstra 算法"
   ]
  },
  {
   "cell_type": "code",
   "execution_count": 2,
   "metadata": {},
   "outputs": [
    {
     "name": "stdout",
     "output_type": "stream",
     "text": [
      "最短距离：\n",
      "A: 0\n",
      "B: 2\n",
      "C: 3\n",
      "D: 5\n",
      "E: 6\n",
      "F: 7\n",
      "\n",
      "最短路径：\n",
      "A: A\n",
      "B: A → B\n",
      "C: A → B → C\n",
      "D: A → B → D\n",
      "E: A → B → D → E\n",
      "F: A → B → D → E → F\n"
     ]
    }
   ],
   "source": [
    "import heapq\n",
    "\n",
    "def dijkstra(graph, start):\n",
    "    \"\"\"\n",
    "    使用 Dijkstra 算法计算从起点到所有顶点的最短路径及路径详情\n",
    "    :param graph: 邻接表表示的图\n",
    "    :param start: 起始顶点\n",
    "    :return: 元组 (最短距离字典, 最短路径字典)\n",
    "    \"\"\"\n",
    "    # 初始化最短距离和前驱节点\n",
    "    dist = {node: float('inf') for node in graph}\n",
    "    prev = {node: None for node in graph}  # 记录路径前驱\n",
    "    dist[start] = 0\n",
    "\n",
    "    heap = []\n",
    "    heapq.heappush(heap, (0, start))\n",
    "    visited = set()\n",
    "\n",
    "    while heap:\n",
    "        current_dist, u = heapq.heappop(heap)\n",
    "        if u in visited:\n",
    "            continue\n",
    "        visited.add(u)\n",
    "\n",
    "        for v, weight in graph[u]:\n",
    "            if dist[v] > dist[u] + weight:\n",
    "                dist[v] = dist[u] + weight\n",
    "                prev[v] = u  # 更新前驱节点\n",
    "                heapq.heappush(heap, (dist[v], v))\n",
    "\n",
    "    # 构建路径字典\n",
    "    paths = {}\n",
    "    for node in graph:\n",
    "        if dist[node] == float('inf'):\n",
    "            paths[node] = \"不可达\"\n",
    "        else:\n",
    "            path = []\n",
    "            current = node\n",
    "            while current is not None:\n",
    "                path.append(current)\n",
    "                current = prev[current]\n",
    "            path.reverse()  # 逆序得到从起点到当前节点的路径\n",
    "            paths[node] = \" → \".join(path)\n",
    "\n",
    "    return dist, paths\n",
    "\n",
    "\n",
    "# 示例图\n",
    "graph = {\n",
    "    'A': [('B', 2), ('C', 5)],\n",
    "    'B': [('C', 1), ('D', 3)],\n",
    "    'C': [('A', 5), ('B', 1), ('E', 4)],\n",
    "    'D': [('B', 3), ('C', 3), ('E', 1), ('F', 4)],\n",
    "    'E': [('C', 4), ('D', 1), ('F', 1)],\n",
    "    'F': [('D', 4), ('C', 1), ('E', 1)],\n",
    "}\n",
    "\n",
    "# 计算最短距离和路径\n",
    "shortest_distances, shortest_paths = dijkstra(graph, start='A')\n",
    "\n",
    "# 打印结果\n",
    "print(\"最短距离：\")\n",
    "for node, distance in shortest_distances.items():\n",
    "    print(f\"{node}: {distance}\")\n",
    "\n",
    "print(\"\\n最短路径：\")\n",
    "for node, path in shortest_paths.items():\n",
    "    print(f\"{node}: {path}\")"
   ]
  }
 ],
 "metadata": {
  "kernelspec": {
   "display_name": "Python 3",
   "language": "python",
   "name": "python3"
  },
  "language_info": {
   "codemirror_mode": {
    "name": "ipython",
    "version": 3
   },
   "file_extension": ".py",
   "mimetype": "text/x-python",
   "name": "python",
   "nbconvert_exporter": "python",
   "pygments_lexer": "ipython3",
   "version": "3.12.3"
  }
 },
 "nbformat": 4,
 "nbformat_minor": 2
}
