{
 "cells": [
  {
   "cell_type": "markdown",
   "metadata": {},
   "source": [
    "A* 算法"
   ]
  },
  {
   "cell_type": "code",
   "execution_count": 1,
   "metadata": {},
   "outputs": [
    {
     "name": "stdout",
     "output_type": "stream",
     "text": [
      "路径坐标: [(0, 0), (0, 1), (0, 2), (0, 3), (0, 4), (1, 4), (2, 4), (3, 4), (4, 4)]\n"
     ]
    }
   ],
   "source": [
    "import heapq\n",
    "from typing import List, Tuple, Dict\n",
    "\n",
    "class Node:\n",
    "    def __init__(self, pos: Tuple[int, int], g: float = 0, h: float = 0):\n",
    "        self.pos = pos      # 节点坐标 (x, y)\n",
    "        self.g = g          # 起点到当前节点的实际代价\n",
    "        self.h = h          # 启发式估计代价\n",
    "        self.f = g + h      # 综合优先级\n",
    "    \n",
    "    def __lt__(self, other) -> bool:\n",
    "        return self.f < other.f  # 优先队列按 f 值排序\n",
    "\n",
    "def heuristic(a: Tuple[int, int], b: Tuple[int, int]) -> float:\n",
    "    \"\"\"曼哈顿距离（适用于四方向移动）\"\"\"\n",
    "    return abs(a[0] - b[0]) + abs(a[1] - b[1])\n",
    "\n",
    "def a_star(grid: List[List[int]], start: Tuple[int, int], end: Tuple[int, int]) -> List[Tuple[int, int]]:\n",
    "    \"\"\"\n",
    "    A* 算法实现\n",
    "    :param grid: 二维数组，0 表示可通行，1 表示障碍物\n",
    "    :param start: 起点坐标 (x, y)\n",
    "    :param end: 终点坐标 (x, y)\n",
    "    :return: 最短路径的坐标列表，若无路径则返回空列表\n",
    "    \"\"\"\n",
    "    rows, cols = len(grid), len(grid[0])\n",
    "    directions = [(-1, 0), (1, 0), (0, -1), (0, 1)]  # 上下左右四方向\n",
    "    \n",
    "    open_heap = []          # 优先队列（按 f 值排序）\n",
    "    heapq.heappush(open_heap, Node(start, 0, heuristic(start, end)))\n",
    "    \n",
    "    came_from: Dict[Tuple[int, int], Tuple[int, int]] = {}  # 记录父节点\n",
    "    g_values = {start: 0}   # 记录每个节点的最小 g 值\n",
    "    \n",
    "    while open_heap:\n",
    "        # 获取当前节点\n",
    "        current_node = heapq.heappop(open_heap)\n",
    "        \n",
    "        # 若到达终点，则回溯路径\n",
    "        if current_node.pos == end:\n",
    "            path = []\n",
    "            current = current_node.pos\n",
    "            while current in came_from:\n",
    "                path.append(current)\n",
    "                current = came_from[current]\n",
    "            path.append(start)\n",
    "            return path[::-1]  # 反转得到从起点到终点的路径\n",
    "        \n",
    "        # 探索当前节点的 4 个方向\n",
    "        for dx, dy in directions:\n",
    "            # 对其中 1 个节点（next_pos）方向进行探索\n",
    "            x, y = current_node.pos[0] + dx, current_node.pos[1] + dy\n",
    "            next_pos = (x, y)\n",
    "            \n",
    "            # 确保 next 节点在图内、剔除障碍物节点\n",
    "            if 0 <= x < rows and 0 <= y < cols and grid[x][y] == 0:\n",
    "                # 计算 next g(m) = g(n) + cost(n -> m)\n",
    "                new_g = current_node.g + 1  # 假设每步代价为 1\n",
    "                \n",
    "                # 如果新路径更优，则更新\n",
    "                if next_pos not in g_values or new_g < g_values[next_pos]:\n",
    "                    g_values[next_pos] = new_g\n",
    "                    new_h = heuristic(next_pos, end)\n",
    "                    new_node = Node(next_pos, new_g, new_h)\n",
    "                    heapq.heappush(open_heap, new_node)\n",
    "                    came_from[next_pos] = current_node.pos\n",
    "    \n",
    "    return []  # 无路径\n",
    "\n",
    "# 示例用法\n",
    "if __name__ == \"__main__\":\n",
    "    # 0=可通行, 1=障碍物\n",
    "    grid = [\n",
    "        [0, 0, 0, 0, 0],\n",
    "        [0, 1, 1, 1, 0],\n",
    "        [0, 1, 0, 0, 0],\n",
    "        [0, 1, 0, 1, 0],\n",
    "        [0, 0, 0, 1, 0]\n",
    "    ]\n",
    "    \n",
    "    start = (0, 0)\n",
    "    end = (4, 4)\n",
    "    \n",
    "    path = a_star(grid, start, end)\n",
    "    print(\"路径坐标:\", path)  # 输出: [(0,0), (0,1), (0,2), (1,3), (2,4), (3,4), (4,4)]"
   ]
  }
 ],
 "metadata": {
  "kernelspec": {
   "display_name": "Python 3",
   "language": "python",
   "name": "python3"
  },
  "language_info": {
   "codemirror_mode": {
    "name": "ipython",
    "version": 3
   },
   "file_extension": ".py",
   "mimetype": "text/x-python",
   "name": "python",
   "nbconvert_exporter": "python",
   "pygments_lexer": "ipython3",
   "version": "3.12.3"
  }
 },
 "nbformat": 4,
 "nbformat_minor": 2
}
