{
 "cells": [
  {
   "cell_type": "markdown",
   "metadata": {},
   "source": [
    "2D 矩阵，(平移、缩放、旋转) 齐次坐标的复合矩阵。"
   ]
  },
  {
   "cell_type": "code",
   "execution_count": 4,
   "metadata": {},
   "outputs": [
    {
     "data": {
      "text/latex": [
       "$\\displaystyle \\left[\\begin{matrix}sx \\cos{\\left(\\theta \\right)} & - sy \\sin{\\left(\\theta \\right)} & tx\\\\sx \\sin{\\left(\\theta \\right)} & sy \\cos{\\left(\\theta \\right)} & ty\\\\0 & 0 & 1\\end{matrix}\\right]$"
      ],
      "text/plain": [
       "⎡sx⋅cos(θ)  -sy⋅sin(θ)  tx⎤\n",
       "⎢                         ⎥\n",
       "⎢sx⋅sin(θ)  sy⋅cos(θ)   ty⎥\n",
       "⎢                         ⎥\n",
       "⎣    0          0       1 ⎦"
      ]
     },
     "execution_count": 4,
     "metadata": {},
     "output_type": "execute_result"
    }
   ],
   "source": [
    "from sympy import symbols, Matrix, cos, sin\n",
    "\n",
    "# 定义符号\n",
    "theta, tx, ty, sx, sy = symbols('theta tx ty sx sy')\n",
    "\n",
    "# 定义矩阵 T, R, S\n",
    "T = Matrix([[1, 0, tx],\n",
    "            [0, 1, ty],\n",
    "            [0, 0, 1]])\n",
    "R = Matrix([[cos(theta), -sin(theta), 0],\n",
    "            [sin(theta), cos(theta), 0],\n",
    "            [0, 0, 1]])\n",
    "S = Matrix([[sx, 0, 0],\n",
    "            [0, sy, 0],\n",
    "            [0, 0, 1]])\n",
    "\n",
    "# 计算矩阵乘积 TRS\n",
    "TRS = T * R * S\n",
    "TRS\n"
   ]
  }
 ],
 "metadata": {
  "kernelspec": {
   "display_name": "Python 3",
   "language": "python",
   "name": "python3"
  },
  "language_info": {
   "codemirror_mode": {
    "name": "ipython",
    "version": 3
   },
   "file_extension": ".py",
   "mimetype": "text/x-python",
   "name": "python",
   "nbconvert_exporter": "python",
   "pygments_lexer": "ipython3",
   "version": "3.9.6"
  }
 },
 "nbformat": 4,
 "nbformat_minor": 2
}
